{
  "nbformat": 4,
  "nbformat_minor": 0,
  "metadata": {
    "colab": {
      "provenance": [],
      "authorship_tag": "ABX9TyP1PT6nqWvvIibLzhkdFPwP",
      "include_colab_link": true
    },
    "kernelspec": {
      "name": "python3",
      "display_name": "Python 3"
    },
    "language_info": {
      "name": "python"
    }
  },
  "cells": [
    {
      "cell_type": "markdown",
      "metadata": {
        "id": "view-in-github",
        "colab_type": "text"
      },
      "source": [
        "<a href=\"https://colab.research.google.com/github/sakki221/Assingments/blob/main/Hackathon1.ipynb\" target=\"_parent\"><img src=\"https://colab.research.google.com/assets/colab-badge.svg\" alt=\"Open In Colab\"/></a>"
      ]
    },
    {
      "cell_type": "code",
      "execution_count": 2,
      "metadata": {
        "colab": {
          "base_uri": "https://localhost:8080/"
        },
        "id": "7a94FNvXC_RL",
        "outputId": "1fb2a173-11a6-4525-fef8-d15af63f7067"
      },
      "outputs": [
        {
          "output_type": "stream",
          "name": "stderr",
          "text": [
            "/usr/local/lib/python3.11/dist-packages/sklearn/linear_model/_logistic.py:1247: FutureWarning: 'multi_class' was deprecated in version 1.5 and will be removed in 1.7. From then on, it will always use 'multinomial'. Leave it to its default value to avoid this warning.\n",
            "  warnings.warn(\n"
          ]
        },
        {
          "output_type": "stream",
          "name": "stdout",
          "text": [
            "Validation Accuracy: 0.9119\n",
            "✅ Submission saved as 'submission_logreg_features.csv'\n"
          ]
        }
      ],
      "source": [
        "import pandas as pd\n",
        "import numpy as np\n",
        "from sklearn.linear_model import LogisticRegression\n",
        "from sklearn.model_selection import train_test_split\n",
        "from sklearn.preprocessing import LabelEncoder, StandardScaler\n",
        "from sklearn.impute import SimpleImputer\n",
        "from sklearn.pipeline import Pipeline\n",
        "from sklearn.metrics import accuracy_score\n",
        "\n",
        "train = pd.read_csv(\"hacktrain.csv\")\n",
        "test = pd.read_csv(\"hacktest.csv\")\n",
        "\n",
        "train = train.drop(columns=[\"Unnamed: 0\"], errors='ignore')\n",
        "test = test.drop(columns=[\"Unnamed: 0\"], errors='ignore')\n",
        "\n",
        "X_raw = train.drop(columns=[\"ID\", \"class\"])\n",
        "y = train[\"class\"]\n",
        "X_test_raw = test.drop(columns=[\"ID\"])\n",
        "test_ids = test[\"ID\"]\n",
        "\n",
        "def add_features(df):\n",
        "    df_feat = df.copy()\n",
        "    df_feat[\"NDVI_mean\"] = df.mean(axis=1)\n",
        "    df_feat[\"NDVI_std\"] = df.std(axis=1)\n",
        "    df_feat[\"NDVI_min\"] = df.min(axis=1)\n",
        "    df_feat[\"NDVI_max\"] = df.max(axis=1)\n",
        "    time = np.arange(df.shape[1])\n",
        "    df_feat[\"NDVI_trend\"] = df.apply(lambda row: np.polyfit(time, row.fillna(0), 1)[0], axis=1)\n",
        "    return df_feat\n",
        "\n",
        "X = add_features(X_raw)\n",
        "X_test = add_features(X_test_raw)\n",
        "\n",
        "le = LabelEncoder()\n",
        "y_encoded = le.fit_transform(y)\n",
        "\n",
        "pipeline = Pipeline([\n",
        "    (\"imputer\", SimpleImputer(strategy=\"median\")),\n",
        "    (\"scaler\", StandardScaler()),\n",
        "    (\"logreg\", LogisticRegression(max_iter=1000, multi_class=\"multinomial\", solver=\"lbfgs\"))\n",
        "])\n",
        "\n",
        "X_train, X_val, y_train, y_val = train_test_split(X, y_encoded, test_size=0.2, random_state=42)\n",
        "\n",
        "pipeline.fit(X_train, y_train)\n",
        "\n",
        "val_preds = pipeline.predict(X_val)\n",
        "val_acc = accuracy_score(y_val, val_preds)\n",
        "print(f\"Validation Accuracy: {val_acc:.4f}\")\n",
        "\n",
        "test_preds = pipeline.predict(X_test)\n",
        "test_preds_labels = le.inverse_transform(test_preds)\n",
        "\n",
        "submission = pd.DataFrame({\n",
        "    \"ID\": test_ids,\n",
        "    \"class\": test_preds_labels\n",
        "})\n",
        "submission.to_csv(\"submission_logreg_features.csv\", index=False)\n",
        "print(\"✅ Submission saved as 'submission_logreg_features.csv'\")\n"
      ]
    }
  ]
}